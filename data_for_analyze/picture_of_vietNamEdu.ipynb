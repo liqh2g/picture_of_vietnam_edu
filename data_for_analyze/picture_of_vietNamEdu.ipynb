{
 "cells": [
  {
   "cell_type": "code",
   "execution_count": 7,
   "metadata": {},
   "outputs": [],
   "source": [
    "from extract_data import extract_data_to_csv\n",
    "\n",
    "path_to_file = r'\\picture_of_VN_edu\\data_for_analyze\\extractedFile'\n",
    "\n",
    "gdp_code_list = ['NY.GDP.MKTP.KD.ZG', 'NY.GDP.MKTP.CD', 'NY.GDP.PCAP.PP.CD']\n",
    "api_gdp = [f\"https://api.worldbank.org/v2/countries/vn;sg;th;id;my;us;z4;1w/indicators/{v}?format=json&per_page=1000\" for v in gdp_code_list]\n",
    "\n",
    "api_pop_list = ['https://api.worldbank.org/v2/country/vn/indicator/SP.POP.TOTL?format=json&per_page=1000',\n",
    "        'https://api.worldbank.org/v2/country/vn/indicator/SP.RUR.TOTL?format=json&per_page=1000',\n",
    "        'https://api.worldbank.org/v2/country/vn/indicator/SP.URB.TOTL?format=json&per_page=1000',\n",
    "        'https://api.worldbank.org/v2/country/vn/indicator/SP.POP.GROW?format=json&per_page=1000',\n",
    "        'https://api.worldbank.org/v2/country/vn/indicator/SP.DYN.CBRT.IN?format=json&per_page=1000'\n",
    "        ]\n",
    "\n",
    "k_12 = 'https://pxweb.gso.gov.vn:443/sq/2156adec-bb77-4bde-8c13-342161c4a474'\n",
    "higher_edu = 'https://pxweb.gso.gov.vn:443/sq/66e42bba-b202-4941-9ee0-3f48fff92b81'\n",
    "edu_rate = 'https://pxweb.gso.gov.vn:443/sq/26d69546-6c6c-4ed6-a7af-680847767667'\n",
    "extractor = extract_data_to_csv()\n",
    "\n",
    "gdp_csv = extractor.gdp_compare_to_csv(api_gdp_capital= api_gdp[0], api_gdp_total= api_gdp[1], api_gpd_growth= api_gdp[2])\n",
    "gdp_csv.to_csv(f\"{path_to_file}\\\\gdp_compare.csv\")\n",
    "\n",
    "pop_csv = extractor.population_to_csv(api_pop= api_pop_list, gdp_compare= gdp_csv)\n",
    "pop_csv.to_csv(f\"{path_to_file}\\\\population.csv\")\n",
    "\n",
    "edu_csv = extractor.vietNamStudent_to_csv(api_k_12= k_12, api_higher_edu= higher_edu)\n",
    "edu_csv.to_csv(f\"{path_to_file}\\\\VietnamStudent.csv\")\n",
    "\n",
    "edu2_csv = extractor.vietNamStudent2_to_csv(api_edu_rate= edu_rate, vnStd= edu_csv)\n",
    "edu2_csv.to_csv(f\"{path_to_file}\\\\VietnamStudent2.csv\")"
   ]
  },
  {
   "cell_type": "code",
   "execution_count": null,
   "metadata": {},
   "outputs": [],
   "source": []
  }
 ],
 "metadata": {
  "kernelspec": {
   "display_name": "edu_env",
   "language": "python",
   "name": "python3"
  },
  "language_info": {
   "codemirror_mode": {
    "name": "ipython",
    "version": 3
   },
   "file_extension": ".py",
   "mimetype": "text/x-python",
   "name": "python",
   "nbconvert_exporter": "python",
   "pygments_lexer": "ipython3",
   "version": "3.11.3"
  }
 },
 "nbformat": 4,
 "nbformat_minor": 2
}
